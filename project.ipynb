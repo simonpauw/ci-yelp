{
 "cells": [
  {
   "cell_type": "markdown",
   "id": "a32c6b7f",
   "metadata": {},
   "source": [
    "# Yelp Project\n",
    "\n",
    "This notebook contains some code to help you get started with the final CI project. This will load the data from the cities in the data folder."
   ]
  },
  {
   "cell_type": "markdown",
   "id": "115ae92f",
   "metadata": {},
   "source": [
    "Load the required packages below"
   ]
  },
  {
   "cell_type": "code",
   "execution_count": null,
   "id": "f5f5cbf2",
   "metadata": {},
   "outputs": [],
   "source": [
    "import pandas as pd\n",
    "import os\n",
    "import json"
   ]
  },
  {
   "cell_type": "markdown",
   "id": "848372f9",
   "metadata": {},
   "source": [
    "The functions below help loading the data"
   ]
  },
  {
   "cell_type": "code",
   "execution_count": null,
   "id": "67c20984",
   "metadata": {},
   "outputs": [],
   "source": [
    "DATA_DIR = \"data\"\n",
    "\n",
    "\n",
    "def list_cities():\n",
    "    \"\"\"\n",
    "    Finds all cities (all directory names) in ./data\n",
    "    Returns a list of city names\n",
    "    \"\"\"\n",
    "    return os.listdir(DATA_DIR)\n",
    "\n",
    "\n",
    "def load_city(city, data_filename):\n",
    "    \"\"\"\n",
    "    Given city name extract all data from ./data/<city>/<data_filename>.json\n",
    "    Returns a pandas DataFrame\n",
    "    \"\"\"\n",
    "    data = {}\n",
    "\n",
    "    city_data = []\n",
    "    with open(f\"{DATA_DIR}/{city}/{data_filename}.json\", \"r\") as f:\n",
    "        for line in f:\n",
    "            city_data.append(json.loads(line))\n",
    "    return pd.DataFrame(city_data)\n",
    "\n",
    "def load_cities(cities, data_filename):\n",
    "    \"\"\"\n",
    "    Given a list of city names,\n",
    "        for each city extract all data from ./data/<city>/<data_filename>.json\n",
    "    Returns a pandas DataFrame\n",
    "    \"\"\" \n",
    "    dfs = []\n",
    "    for city in cities:\n",
    "        dfs.append(load_city(city, data_filename))\n",
    "        \n",
    "    # combine data\n",
    "    combined = pd.concat(dfs)\n",
    "    \n",
    "    # if an entry occurs in multiple cities, there could be duplicates. try to remove\n",
    "    try:\n",
    "        cleaned = combined.drop_duplicates(ignore_index = True)\n",
    "    except TypeError:\n",
    "        # if an item is unhashable\n",
    "        cleaned = combined\n",
    "    \n",
    "    return cleaned"
   ]
  },
  {
   "cell_type": "markdown",
   "id": "85923754",
   "metadata": {},
   "source": [
    "This is how you can load all the data from a single city:"
   ]
  },
  {
   "cell_type": "code",
   "execution_count": null,
   "id": "67087c45",
   "metadata": {},
   "outputs": [],
   "source": [
    "CITY = 'sun city'\n",
    "USERS = load_city(CITY, \"user\")\n",
    "BUSINESSES = load_city(CITY, \"business\")\n",
    "REVIEWS = load_city(CITY, \"review\")\n",
    "TIPS = load_city(CITY, \"tip\")\n",
    "CHECKINS = load_city(CITY, \"checkin\")\n",
    "\n",
    "display(REVIEWS)"
   ]
  },
  {
   "cell_type": "markdown",
   "id": "0f01a87b",
   "metadata": {},
   "source": [
    "This is how you can load all the data from multiple cities at once:"
   ]
  },
  {
   "cell_type": "code",
   "execution_count": null,
   "id": "dba262b6",
   "metadata": {},
   "outputs": [],
   "source": [
    "CITIES = list_cities()\n",
    "print(CITIES)\n",
    "\n",
    "USERS = load_cities(CITIES, \"user\")\n",
    "BUSINESSES = load_cities(CITIES, \"business\")\n",
    "REVIEWS = load_cities(CITIES, \"review\")\n",
    "TIPS = load_cities(CITIES, \"tip\")\n",
    "CHECKINS = load_cities(CITIES, \"checkin\")\n",
    "\n",
    "display(REVIEWS)"
   ]
  },
  {
   "cell_type": "code",
   "execution_count": null,
   "id": "5eac071a",
   "metadata": {},
   "outputs": [],
   "source": []
  }
 ],
 "metadata": {
  "kernelspec": {
   "display_name": "Python 3",
   "language": "python",
   "name": "python3"
  },
  "language_info": {
   "codemirror_mode": {
    "name": "ipython",
    "version": 3
   },
   "file_extension": ".py",
   "mimetype": "text/x-python",
   "name": "python",
   "nbconvert_exporter": "python",
   "pygments_lexer": "ipython3",
   "version": "3.7.3"
  }
 },
 "nbformat": 4,
 "nbformat_minor": 5
}
